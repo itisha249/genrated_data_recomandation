{
 "cells": [
  {
   "cell_type": "code",
   "execution_count": 1,
   "metadata": {},
   "outputs": [
    {
     "name": "stderr",
     "output_type": "stream",
     "text": [
      "C:\\Users\\ipatel\\AppData\\Local\\Temp\\ipykernel_8940\\3415057035.py:5: DtypeWarning: Columns (1) have mixed types. Specify dtype option on import or set low_memory=False.\n",
      "  user_data_main = pd.read_csv(\"user_data_main.csv\")\n"
     ]
    },
    {
     "name": "stdout",
     "output_type": "stream",
     "text": [
      "✅ Updated file saved as 'user_data_main_updated.csv'\n"
     ]
    }
   ],
   "source": [
    "import pandas as pd\n",
    "import numpy as np\n",
    "\n",
    "# Load the correct CSV file\n",
    "user_data_main = pd.read_csv(\"user_data_main.csv\")\n",
    "\n",
    "# Ensure the columns 'age' and 'age_group' exist\n",
    "if \"age\" not in user_data_main.columns:\n",
    "    user_data_main[\"age\"] = np.random.randint(15, 71, size=len(user_data_main))\n",
    "\n",
    "def categorize_age(age):\n",
    "    if 15 <= age <= 24:\n",
    "        return \"Teens & Young Adults\"\n",
    "    elif 25 <= age <= 39:\n",
    "        return \"Middle-Aged Adults\"\n",
    "    else:\n",
    "        return \"Older Adults\"\n",
    "\n",
    "if \"age_group\" not in user_data_main.columns:\n",
    "    user_data_main[\"age_group\"] = user_data_main[\"age\"].apply(categorize_age)\n",
    "\n",
    "# Save the updated dataframe back to a file\n",
    "user_data_main.to_csv(\"user_data_main_updated.csv\", index=False)\n",
    "\n",
    "print(\"✅ Updated file saved as 'user_data_main_updated.csv'\")\n"
   ]
  },
  {
   "cell_type": "code",
   "execution_count": 2,
   "metadata": {},
   "outputs": [],
   "source": [
    "import pandas as pd"
   ]
  },
  {
   "cell_type": "code",
   "execution_count": 5,
   "metadata": {},
   "outputs": [
    {
     "name": "stdout",
     "output_type": "stream",
     "text": [
      "151\n"
     ]
    }
   ],
   "source": [
    "data = pd.read_csv(\"video_data_main.csv\")\n",
    "a=[]\n",
    "for i,j in zip(data[\"category\"] , data[\"language\"]):\n",
    "    if i==\"learning\"and j==\"English\":\n",
    "        a.append(i)\n",
    "\n",
    "print(len(a))"
   ]
  },
  {
   "cell_type": "code",
   "execution_count": null,
   "metadata": {},
   "outputs": [],
   "source": []
  }
 ],
 "metadata": {
  "kernelspec": {
   "display_name": "content",
   "language": "python",
   "name": "python3"
  },
  "language_info": {
   "codemirror_mode": {
    "name": "ipython",
    "version": 3
   },
   "file_extension": ".py",
   "mimetype": "text/x-python",
   "name": "python",
   "nbconvert_exporter": "python",
   "pygments_lexer": "ipython3",
   "version": "3.10.16"
  }
 },
 "nbformat": 4,
 "nbformat_minor": 2
}
